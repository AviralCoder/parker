{
 "cells": [
  {
   "cell_type": "code",
   "execution_count": 6,
   "metadata": {},
   "outputs": [
    {
     "name": "stdout",
     "output_type": "stream",
     "text": [
      "aww\n"
     ]
    }
   ],
   "source": [
    "good = [\"excellent\", \"wonderful\", \"good\",] # etc etc.\n",
    "bad = [\"suck\", \"idiotic\", \"idiot\"] # etc etc.\n",
    "feedback_phrases = [\"you are\", \"you are very\", \"feedback: \"]\n",
    "\n",
    "string = input(\">>> \")\n",
    "for phrase in feedback_phrases:\n",
    "    if phrase in string:\n",
    "        for adjective in good:\n",
    "            if (adjective in string):\n",
    "                print(\"thanks!\")\n",
    "                break\n",
    "            else: \n",
    "                for adjective in bad:\n",
    "                    if adjective in string:\n",
    "                        print(\"aww\")\n",
    "                        break;\n",
    "                    else: \n",
    "                        print(\"doesn't look like i can understand your feedback word\")\n",
    "    else:\n",
    "        break\n"
   ]
  },
  {
   "cell_type": "code",
   "execution_count": null,
   "metadata": {},
   "outputs": [],
   "source": []
  },
  {
   "cell_type": "markdown",
   "metadata": {},
   "source": [
    "# How it works\n",
    "\n",
    "- There are a set of words which mean GOOD\n",
    "- There are a set of words which mean BAD\n",
    "- There are a set of phrases which mean that a feedback is being said.\n",
    "\n",
    "If input has feedback phrase, it will loop through the good list, and if it doesn't find one, it is going to loop through the bad one, and if it doesn't find one either, it'll just say it can't recognise one (of course i will put more words) If IT FINDS a good word, its going to write \"Thanks\" and stop the loop. If it finds a bad words, (after failing to find a good one), it will write \"Aww\" and end the loop again. And if no feedback phrase was there in the list, it's going to break the loop of the feedback phrase list. **Alright, I know that is a lot of indentation and nesting, but I couldn't find any other way and I am not Tony Stark.**"
   ]
  }
 ],
 "metadata": {
  "interpreter": {
   "hash": "aee8b7b246df8f9039afb4144a1f6fd8d2ca17a180786b69acc140d282b71a49"
  },
  "kernelspec": {
   "display_name": "Python 3.10.0 64-bit",
   "language": "python",
   "name": "python3"
  },
  "language_info": {
   "codemirror_mode": {
    "name": "ipython",
    "version": 3
   },
   "file_extension": ".py",
   "mimetype": "text/x-python",
   "name": "python",
   "nbconvert_exporter": "python",
   "pygments_lexer": "ipython3",
   "version": "3.10.0"
  },
  "orig_nbformat": 4
 },
 "nbformat": 4,
 "nbformat_minor": 2
}
